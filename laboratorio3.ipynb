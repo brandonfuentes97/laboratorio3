{
 "cells": [
  {
   "attachments": {},
   "cell_type": "markdown",
   "metadata": {},
   "source": [
    "## Laboratorio #3\n",
    "\n",
    "### Análisis de Datos con Python"
   ]
  },
  {
   "attachments": {},
   "cell_type": "markdown",
   "metadata": {},
   "source": [
    "## Parte 1: Numpy"
   ]
  },
  {
   "attachments": {},
   "cell_type": "markdown",
   "metadata": {},
   "source": [
    "#### 1) ¿Cuál es el tamaño en bytes de un array de 1000 elementos de tipo booleano?"
   ]
  },
  {
   "cell_type": "code",
   "execution_count": 9,
   "metadata": {},
   "outputs": [
    {
     "name": "stdout",
     "output_type": "stream",
     "text": [
      "El tamaño de un array de 1000 elmentos tipo booleano es de: 1064 bytes.\n"
     ]
    }
   ],
   "source": [
    "import sys\n",
    "import array\n",
    "\n",
    "a = array.array('B', [False]*1000)\n",
    "size = sys.getsizeof(a)\n",
    "\n",
    "print(f\"El tamaño de un array de 1000 elmentos tipo booleano es de: {size} bytes.\")"
   ]
  },
  {
   "attachments": {},
   "cell_type": "markdown",
   "metadata": {},
   "source": [
    "### 2) Cree un array cuyos elementos sean los enteros pares en [1,100] y en orden decreciente. Muestre los 10 últimos por pantalla"
   ]
  },
  {
   "cell_type": "code",
   "execution_count": 14,
   "metadata": {},
   "outputs": [
    {
     "name": "stdout",
     "output_type": "stream",
     "text": [
      "Mostrando los ultimos diez:  [20 18 16 14 12 10  8  6  4  2]\n"
     ]
    }
   ],
   "source": [
    "import numpy as np\n",
    "\n",
    "pares = [i for i in range(1, 101) if i % 2 == 0]\n",
    "#pares\n",
    "\n",
    "pares.sort(reverse=True)\n",
    "#pares\n",
    "\n",
    "array = np.array(pares)\n",
    "#array\n",
    "\n",
    "print(\"Mostrando los ultimos diez: \", array[-10:])"
   ]
  },
  {
   "attachments": {},
   "cell_type": "markdown",
   "metadata": {},
   "source": [
    "### 3) Dado el array\n",
    "\n",
    "2 4 5 6<br>\n",
    "0 3 7 4<br>\n",
    "8 8 5 2<br>\n",
    "1 5 6 1<br>\n",
    "<br>\n",
    "Seleccione con una instrucción el subarray de elementos<br>\n",
    "0 3 7 4\n",
    "<br>\n",
    "Después, seleccione el subarray de elementos <br>\n",
    "2 5\n",
    "8 5"
   ]
  },
  {
   "cell_type": "code",
   "execution_count": 61,
   "metadata": {},
   "outputs": [
    {
     "name": "stdout",
     "output_type": "stream",
     "text": [
      "Primer sub array:\n",
      "[0 3 7 4]\n",
      "Segundo sub array:\n",
      "[[2 5]\n",
      " [8 5]]\n"
     ]
    }
   ],
   "source": [
    "import numpy as np\n",
    "\n",
    "a = np.array([\n",
    "    [2, 4, 5, 6],\n",
    "    [0, 3, 7, 4],\n",
    "    [8, 8, 5, 2],\n",
    "    [1, 5, 6, 1]\n",
    "])\n",
    "\n",
    "subarray1 = a[1]\n",
    "\n",
    "print(\"Primer sub array:\")\n",
    "print(subarray1)\n",
    "\n",
    "print(\"Segundo sub array:\")\n",
    "subarray2 = a[0:, [0, 2]]\n",
    "print(subarray2[[0, 2],:])"
   ]
  }
 ],
 "metadata": {
  "kernelspec": {
   "display_name": "base",
   "language": "python",
   "name": "python3"
  },
  "language_info": {
   "codemirror_mode": {
    "name": "ipython",
    "version": 3
   },
   "file_extension": ".py",
   "mimetype": "text/x-python",
   "name": "python",
   "nbconvert_exporter": "python",
   "pygments_lexer": "ipython3",
   "version": "3.9.13"
  },
  "orig_nbformat": 4
 },
 "nbformat": 4,
 "nbformat_minor": 2
}
