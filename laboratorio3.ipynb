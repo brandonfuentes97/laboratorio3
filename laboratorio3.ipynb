{
 "cells": [
  {
   "attachments": {},
   "cell_type": "markdown",
   "metadata": {},
   "source": [
    "## Laboratorio #3\n",
    "\n",
    "### Análisis de Datos con Python"
   ]
  },
  {
   "attachments": {},
   "cell_type": "markdown",
   "metadata": {},
   "source": [
    "## Parte 1: Numpy"
   ]
  },
  {
   "attachments": {},
   "cell_type": "markdown",
   "metadata": {},
   "source": [
    "#### 1) ¿Cuál es el tamaño en bytes de un array de 1000 elementos de tipo booleano?"
   ]
  },
  {
   "cell_type": "code",
   "execution_count": 9,
   "metadata": {},
   "outputs": [
    {
     "name": "stdout",
     "output_type": "stream",
     "text": [
      "El tamaño de un array de 1000 elmentos tipo booleano es de: 1064 bytes.\n"
     ]
    }
   ],
   "source": [
    "import sys\n",
    "import array\n",
    "\n",
    "a = array.array('B', [False]*1000)\n",
    "size = sys.getsizeof(a)\n",
    "\n",
    "print(f\"El tamaño de un array de 1000 elmentos tipo booleano es de: {size} bytes.\")"
   ]
  },
  {
   "attachments": {},
   "cell_type": "markdown",
   "metadata": {},
   "source": [
    "### 2) Cree un array cuyos elementos sean los enteros pares en [1,100] y en orden decreciente. Muestre los 10 últimos por pantalla"
   ]
  },
  {
   "cell_type": "code",
   "execution_count": 14,
   "metadata": {},
   "outputs": [
    {
     "name": "stdout",
     "output_type": "stream",
     "text": [
      "Mostrando los ultimos diez:  [20 18 16 14 12 10  8  6  4  2]\n"
     ]
    }
   ],
   "source": [
    "import numpy as np\n",
    "\n",
    "pares = [i for i in range(1, 101) if i % 2 == 0]\n",
    "#pares\n",
    "\n",
    "pares.sort(reverse=True)\n",
    "#pares\n",
    "\n",
    "array = np.array(pares)\n",
    "#array\n",
    "\n",
    "print(\"Mostrando los ultimos diez: \", array[-10:])"
   ]
  },
  {
   "attachments": {},
   "cell_type": "markdown",
   "metadata": {},
   "source": [
    "### 3) Dado el array\n",
    "\n",
    "2 4 5 6<br>\n",
    "0 3 7 4<br>\n",
    "8 8 5 2<br>\n",
    "1 5 6 1<br>\n",
    "<br>\n",
    "Seleccione con una instrucción el subarray de elementos<br>\n",
    "0 3 7 4\n",
    "<br>\n",
    "Después, seleccione el subarray de elementos <br>\n",
    "2 5\n",
    "8 5"
   ]
  },
  {
   "cell_type": "code",
   "execution_count": 61,
   "metadata": {},
   "outputs": [
    {
     "name": "stdout",
     "output_type": "stream",
     "text": [
      "Primer sub array:\n",
      "[0 3 7 4]\n",
      "Segundo sub array:\n",
      "[[2 5]\n",
      " [8 5]]\n"
     ]
    }
   ],
   "source": [
    "import numpy as np\n",
    "\n",
    "a = np.array([\n",
    "    [2, 4, 5, 6],\n",
    "    [0, 3, 7, 4],\n",
    "    [8, 8, 5, 2],\n",
    "    [1, 5, 6, 1]\n",
    "])\n",
    "\n",
    "subarray1 = a[1]\n",
    "\n",
    "print(\"Primer sub array:\")\n",
    "print(subarray1)\n",
    "\n",
    "print(\"Segundo sub array:\")\n",
    "subarray2 = a[0:, [0, 2]]\n",
    "print(subarray2[[0, 2],:])"
   ]
  },
  {
   "attachments": {},
   "cell_type": "markdown",
   "metadata": {},
   "source": [
    "### 4) Dados los arrays a = [1, 4, 2, 7] y b = [1, 3, 2, 9], obtenga la media aritmética de la diferencia (a-b).\n"
   ]
  },
  {
   "cell_type": "code",
   "execution_count": 10,
   "metadata": {},
   "outputs": [
    {
     "name": "stdout",
     "output_type": "stream",
     "text": [
      "La media aritmetica de la diferencia de los arrays A y B es:  -0.25\n"
     ]
    }
   ],
   "source": [
    "import numpy as np\n",
    "\n",
    "array_a = np.array([1,4,2,7])\n",
    "array_b = np.array([1,3,2,9])\n",
    "\n",
    "media = np.mean(array_a - array_b)\n",
    "\n",
    "print(\"La media aritmetica de la diferencia de los arrays A y B es: \", media)"
   ]
  },
  {
   "attachments": {},
   "cell_type": "markdown",
   "metadata": {},
   "source": [
    "### 5) Tengo valores de cordenadas (x, y) en las columnas del array\n",
    "1.33 4.5 <br>\n",
    "30.0 10.7 <br>\n",
    "70.2 0.5 <br>\n",
    "<br>Agregue a este array las coordenadas (37.1, -3.6). Muestre en pantalla las dimensiones del nuevo array"
   ]
  },
  {
   "cell_type": "code",
   "execution_count": 28,
   "metadata": {},
   "outputs": [
    {
     "name": "stdout",
     "output_type": "stream",
     "text": [
      "Primera vez array \n",
      " [[ 1.33  4.5 ]\n",
      " [30.   10.7 ]\n",
      " [70.2   0.5 ]]\n",
      "Array con la nueva coordenada \n",
      " [[ 1.33  4.5 ]\n",
      " [30.   10.7 ]\n",
      " [70.2   0.5 ]\n",
      " [37.1  -3.6 ]]\n"
     ]
    }
   ],
   "source": [
    "array_coord = np.array([\n",
    "    [1.33, 4.5],\n",
    "    [30.0, 10.7],\n",
    "    [70.2, 0.5]\n",
    "    ])\n",
    "\n",
    "print(\"Primera vez array \\n\", array_coord)\n",
    "\n",
    "array_coord = np.append(array_coord, [[37.1, -3.6]], axis=0)\n",
    "\n",
    "print(\"Array con la nueva coordenada \\n\", array_coord)"
   ]
  },
  {
   "attachments": {},
   "cell_type": "markdown",
   "metadata": {},
   "source": [
    "### 6) Copie el array del ejercicio anterior. Traspóngalo (. Agregue ahora dos nuevos pares de coordenadas: (10.8, 3.0) y (35.8, 12.0)."
   ]
  },
  {
   "cell_type": "code",
   "execution_count": 33,
   "metadata": {},
   "outputs": [
    {
     "name": "stdout",
     "output_type": "stream",
     "text": [
      "Trasnspose: \n",
      " [[ 1.33 30.   70.2 ]\n",
      " [ 4.5  10.7   0.5 ]]\n",
      "Trasnspose: \n",
      " [[ 1.33 30.   70.2  10.8  35.8 ]\n",
      " [ 4.5  10.7   0.5   3.   12.  ]]\n"
     ]
    }
   ],
   "source": [
    "array_coord = np.array([\n",
    "    [1.33, 4.5],\n",
    "    [30.0, 10.7],\n",
    "    [70.2, 0.5]\n",
    "    ])\n",
    "\n",
    "print(\"Trasnspose: \\n\" , np.transpose(array_coord))\n",
    "\n",
    "array_coord = np.append(array_coord, [[10.8, 3.0], [35.8,12.0]], axis=0)\n",
    "\n",
    "print(\"Trasnspose: \\n\" , np.transpose(array_coord))"
   ]
  }
 ],
 "metadata": {
  "kernelspec": {
   "display_name": "base",
   "language": "python",
   "name": "python3"
  },
  "language_info": {
   "codemirror_mode": {
    "name": "ipython",
    "version": 3
   },
   "file_extension": ".py",
   "mimetype": "text/x-python",
   "name": "python",
   "nbconvert_exporter": "python",
   "pygments_lexer": "ipython3",
   "version": "3.9.13"
  },
  "orig_nbformat": 4
 },
 "nbformat": 4,
 "nbformat_minor": 2
}
