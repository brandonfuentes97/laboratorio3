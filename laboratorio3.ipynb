{
 "cells": [
  {
   "attachments": {},
   "cell_type": "markdown",
   "metadata": {},
   "source": [
    "## Laboratorio #3\n",
    "\n",
    "### Análisis de Datos con Python"
   ]
  },
  {
   "attachments": {},
   "cell_type": "markdown",
   "metadata": {},
   "source": [
    "## Parte 1: Numpy"
   ]
  },
  {
   "attachments": {},
   "cell_type": "markdown",
   "metadata": {},
   "source": [
    "#### 1) ¿Cuál es el tamaño en bytes de un array de 1000 elementos de tipo booleano?"
   ]
  },
  {
   "cell_type": "code",
   "execution_count": 9,
   "metadata": {},
   "outputs": [
    {
     "name": "stdout",
     "output_type": "stream",
     "text": [
      "El tamaño de un array de 1000 elmentos tipo booleano es de: 1064 bytes.\n"
     ]
    }
   ],
   "source": [
    "import sys\n",
    "import array\n",
    "\n",
    "a = array.array('B', [False]*1000)\n",
    "size = sys.getsizeof(a)\n",
    "\n",
    "print(f\"El tamaño de un array de 1000 elmentos tipo booleano es de: {size} bytes.\")"
   ]
  },
  {
   "attachments": {},
   "cell_type": "markdown",
   "metadata": {},
   "source": [
    "### 2) Cree un array cuyos elementos sean los enteros pares en [1,100] y en orden decreciente. Muestre los 10 últimos por pantalla"
   ]
  },
  {
   "cell_type": "code",
   "execution_count": 14,
   "metadata": {},
   "outputs": [
    {
     "name": "stdout",
     "output_type": "stream",
     "text": [
      "Mostrando los ultimos diez:  [20 18 16 14 12 10  8  6  4  2]\n"
     ]
    }
   ],
   "source": [
    "import numpy as np\n",
    "\n",
    "pares = [i for i in range(1, 101) if i % 2 == 0]\n",
    "#pares\n",
    "\n",
    "pares.sort(reverse=True)\n",
    "#pares\n",
    "\n",
    "array = np.array(pares)\n",
    "#array\n",
    "\n",
    "print(\"Mostrando los ultimos diez: \", array[-10:])"
   ]
  },
  {
   "attachments": {},
   "cell_type": "markdown",
   "metadata": {},
   "source": [
    "### 3) Dado el array\n",
    "\n",
    "2 4 5 6<br>\n",
    "0 3 7 4<br>\n",
    "8 8 5 2<br>\n",
    "1 5 6 1<br>\n",
    "<br>\n",
    "Seleccione con una instrucción el subarray de elementos<br>\n",
    "0 3 7 4\n",
    "<br>\n",
    "Después, seleccione el subarray de elementos <br>\n",
    "2 5\n",
    "8 5"
   ]
  },
  {
   "cell_type": "code",
   "execution_count": 61,
   "metadata": {},
   "outputs": [
    {
     "name": "stdout",
     "output_type": "stream",
     "text": [
      "Primer sub array:\n",
      "[0 3 7 4]\n",
      "Segundo sub array:\n",
      "[[2 5]\n",
      " [8 5]]\n"
     ]
    }
   ],
   "source": [
    "import numpy as np\n",
    "\n",
    "a = np.array([\n",
    "    [2, 4, 5, 6],\n",
    "    [0, 3, 7, 4],\n",
    "    [8, 8, 5, 2],\n",
    "    [1, 5, 6, 1]\n",
    "])\n",
    "\n",
    "subarray1 = a[1]\n",
    "\n",
    "print(\"Primer sub array:\")\n",
    "print(subarray1)\n",
    "\n",
    "print(\"Segundo sub array:\")\n",
    "subarray2 = a[0:, [0, 2]]\n",
    "print(subarray2[[0, 2],:])"
   ]
  },
  {
   "attachments": {},
   "cell_type": "markdown",
   "metadata": {},
   "source": [
    "### 4) Dados los arrays a = [1, 4, 2, 7] y b = [1, 3, 2, 9], obtenga la media aritmética de la diferencia (a-b).\n"
   ]
  },
  {
   "cell_type": "code",
   "execution_count": 10,
   "metadata": {},
   "outputs": [
    {
     "name": "stdout",
     "output_type": "stream",
     "text": [
      "La media aritmetica de la diferencia de los arrays A y B es:  -0.25\n"
     ]
    }
   ],
   "source": [
    "import numpy as np\n",
    "\n",
    "array_a = np.array([1,4,2,7])\n",
    "array_b = np.array([1,3,2,9])\n",
    "\n",
    "media = np.mean(array_a - array_b)\n",
    "\n",
    "print(\"La media aritmetica de la diferencia de los arrays A y B es: \", media)"
   ]
  },
  {
   "attachments": {},
   "cell_type": "markdown",
   "metadata": {},
   "source": [
    "### 5) Tengo valores de cordenadas (x, y) en las columnas del array\n",
    "1.33 4.5 <br>\n",
    "30.0 10.7 <br>\n",
    "70.2 0.5 <br>\n",
    "<br>Agregue a este array las coordenadas (37.1, -3.6). Muestre en pantalla las dimensiones del nuevo array"
   ]
  },
  {
   "cell_type": "code",
   "execution_count": 28,
   "metadata": {},
   "outputs": [
    {
     "name": "stdout",
     "output_type": "stream",
     "text": [
      "Primera vez array \n",
      " [[ 1.33  4.5 ]\n",
      " [30.   10.7 ]\n",
      " [70.2   0.5 ]]\n",
      "Array con la nueva coordenada \n",
      " [[ 1.33  4.5 ]\n",
      " [30.   10.7 ]\n",
      " [70.2   0.5 ]\n",
      " [37.1  -3.6 ]]\n"
     ]
    }
   ],
   "source": [
    "array_coord = np.array([\n",
    "    [1.33, 4.5],\n",
    "    [30.0, 10.7],\n",
    "    [70.2, 0.5]\n",
    "    ])\n",
    "\n",
    "print(\"Primera vez array \\n\", array_coord)\n",
    "\n",
    "array_coord = np.append(array_coord, [[37.1, -3.6]], axis=0)\n",
    "\n",
    "print(\"Array con la nueva coordenada \\n\", array_coord)"
   ]
  },
  {
   "attachments": {},
   "cell_type": "markdown",
   "metadata": {},
   "source": [
    "### 6) Copie el array del ejercicio anterior. Traspóngalo (. Agregue ahora dos nuevos pares de coordenadas: (10.8, 3.0) y (35.8, 12.0)."
   ]
  },
  {
   "cell_type": "code",
   "execution_count": 33,
   "metadata": {},
   "outputs": [
    {
     "name": "stdout",
     "output_type": "stream",
     "text": [
      "Trasnspose: \n",
      " [[ 1.33 30.   70.2 ]\n",
      " [ 4.5  10.7   0.5 ]]\n",
      "Trasnspose: \n",
      " [[ 1.33 30.   70.2  10.8  35.8 ]\n",
      " [ 4.5  10.7   0.5   3.   12.  ]]\n"
     ]
    }
   ],
   "source": [
    "array_coord = np.array([\n",
    "    [1.33, 4.5],\n",
    "    [30.0, 10.7],\n",
    "    [70.2, 0.5]\n",
    "    ])\n",
    "\n",
    "print(\"Trasnspose: \\n\" , np.transpose(array_coord))\n",
    "\n",
    "array_coord = np.append(array_coord, [[10.8, 3.0], [35.8,12.0]], axis=0)\n",
    "\n",
    "print(\"Trasnspose: \\n\" , np.transpose(array_coord))"
   ]
  },
  {
   "attachments": {},
   "cell_type": "markdown",
   "metadata": {},
   "source": [
    "## Parte 1: Exploración y minería de datos"
   ]
  },
  {
   "attachments": {},
   "cell_type": "markdown",
   "metadata": {},
   "source": [
    "### 1) ¿Cuántos Municipios tienen más de 100000 habitantes?."
   ]
  },
  {
   "cell_type": "code",
   "execution_count": 16,
   "metadata": {},
   "outputs": [
    {
     "data": {
      "text/html": [
       "<div>\n",
       "<style scoped>\n",
       "    .dataframe tbody tr th:only-of-type {\n",
       "        vertical-align: middle;\n",
       "    }\n",
       "\n",
       "    .dataframe tbody tr th {\n",
       "        vertical-align: top;\n",
       "    }\n",
       "\n",
       "    .dataframe thead th {\n",
       "        text-align: right;\n",
       "    }\n",
       "</style>\n",
       "<table border=\"1\" class=\"dataframe\">\n",
       "  <thead>\n",
       "    <tr style=\"text-align: right;\">\n",
       "      <th></th>\n",
       "      <th>FID</th>\n",
       "      <th>OBJECTID</th>\n",
       "      <th>Texto</th>\n",
       "      <th>Poblacion</th>\n",
       "      <th>CodMun</th>\n",
       "      <th>Municipio</th>\n",
       "      <th>CodProvin</th>\n",
       "      <th>Provincia</th>\n",
       "      <th>X</th>\n",
       "      <th>Y</th>\n",
       "    </tr>\n",
       "  </thead>\n",
       "  <tbody>\n",
       "    <tr>\n",
       "      <th>0</th>\n",
       "      <td>0</td>\n",
       "      <td>1</td>\n",
       "      <td>Agüimes</td>\n",
       "      <td>29431.0</td>\n",
       "      <td>35002</td>\n",
       "      <td>Agüimes</td>\n",
       "      <td>35</td>\n",
       "      <td>Las Palmas</td>\n",
       "      <td>-15.446012</td>\n",
       "      <td>27.900542</td>\n",
       "    </tr>\n",
       "    <tr>\n",
       "      <th>1</th>\n",
       "      <td>1</td>\n",
       "      <td>2</td>\n",
       "      <td>Antigua</td>\n",
       "      <td>10458.0</td>\n",
       "      <td>35003</td>\n",
       "      <td>Antigua</td>\n",
       "      <td>35</td>\n",
       "      <td>Las Palmas</td>\n",
       "      <td>-14.013301</td>\n",
       "      <td>28.418966</td>\n",
       "    </tr>\n",
       "    <tr>\n",
       "      <th>2</th>\n",
       "      <td>2</td>\n",
       "      <td>3</td>\n",
       "      <td>Arrecife</td>\n",
       "      <td>58156.0</td>\n",
       "      <td>35004</td>\n",
       "      <td>Arrecife</td>\n",
       "      <td>35</td>\n",
       "      <td>Las Palmas</td>\n",
       "      <td>-13.551451</td>\n",
       "      <td>28.960649</td>\n",
       "    </tr>\n",
       "    <tr>\n",
       "      <th>3</th>\n",
       "      <td>3</td>\n",
       "      <td>4</td>\n",
       "      <td>Arucas</td>\n",
       "      <td>36745.0</td>\n",
       "      <td>35006</td>\n",
       "      <td>Arucas</td>\n",
       "      <td>35</td>\n",
       "      <td>Las Palmas</td>\n",
       "      <td>-15.521512</td>\n",
       "      <td>28.117496</td>\n",
       "    </tr>\n",
       "    <tr>\n",
       "      <th>4</th>\n",
       "      <td>4</td>\n",
       "      <td>5</td>\n",
       "      <td>Gáldar</td>\n",
       "      <td>24473.0</td>\n",
       "      <td>35009</td>\n",
       "      <td>Gáldar</td>\n",
       "      <td>35</td>\n",
       "      <td>Las Palmas</td>\n",
       "      <td>-15.654111</td>\n",
       "      <td>28.143873</td>\n",
       "    </tr>\n",
       "  </tbody>\n",
       "</table>\n",
       "</div>"
      ],
      "text/plain": [
       "   FID  OBJECTID     Texto  Poblacion  CodMun Municipio  CodProvin  \\\n",
       "0    0         1   Agüimes    29431.0   35002   Agüimes         35   \n",
       "1    1         2   Antigua    10458.0   35003   Antigua         35   \n",
       "2    2         3  Arrecife    58156.0   35004  Arrecife         35   \n",
       "3    3         4    Arucas    36745.0   35006    Arucas         35   \n",
       "4    4         5    Gáldar    24473.0   35009    Gáldar         35   \n",
       "\n",
       "    Provincia          X          Y  \n",
       "0  Las Palmas -15.446012  27.900542  \n",
       "1  Las Palmas -14.013301  28.418966  \n",
       "2  Las Palmas -13.551451  28.960649  \n",
       "3  Las Palmas -15.521512  28.117496  \n",
       "4  Las Palmas -15.654111  28.143873  "
      ]
     },
     "execution_count": 16,
     "metadata": {},
     "output_type": "execute_result"
    }
   ],
   "source": [
    "import pandas as pd\n",
    "import matplotlib.pyplot as plt\n",
    "\n",
    "df_nupoblacion = pd.read_csv('NucleosPoblacion.csv')\n",
    "df_nupoblacion.head()"
   ]
  },
  {
   "cell_type": "code",
   "execution_count": 17,
   "metadata": {},
   "outputs": [
    {
     "name": "stdout",
     "output_type": "stream",
     "text": [
      "Los municipios que tienen mas de 100000 habitantes son:  62\n"
     ]
    }
   ],
   "source": [
    "df_resultado = df_nupoblacion[df_nupoblacion['Poblacion'] > 100000]\n",
    "\n",
    "print(\"Los municipios que tienen mas de 100000 habitantes son: \", len(df_resultado))"
   ]
  },
  {
   "attachments": {},
   "cell_type": "markdown",
   "metadata": {},
   "source": [
    "### 2. Realice una gráfica de barras sobre la población de cada ciudad, ordenela de menor a mayor y responda:\n",
    "- ¿Cuál es la segunda ciudad más poblada? <br>\n",
    "    ## Respuesta: Barcelona\n",
    "- ¿Qué posición ocupa Granada en el ranking de las ciudades más pobladas?\n",
    "    ## Respuesta: Puesto 17"
   ]
  },
  {
   "cell_type": "code",
   "execution_count": 35,
   "metadata": {},
   "outputs": [
    {
     "data": {
      "image/png": "[encoded data removed]",
      "text/plain": [
       "<Figure size 2000x600 with 1 Axes>"
      ]
     },
     "metadata": {},
     "output_type": "display_data"
    }
   ],
   "source": [
    "df_nupoblacion = df_nupoblacion.sort_values('Poblacion', ascending=False)\n",
    "\n",
    "df_poblacion = df_nupoblacion.head(20)\n",
    "\n",
    "fig, ax = plt.subplots(figsize=(20, 6))\n",
    "ax.bar(df_poblacion['Provincia'], df_poblacion['Poblacion'])\n",
    "\n",
    "ax.set_title('TOP Ciudades con mayor población')\n",
    "ax.set_xlabel('Eje X')\n",
    "ax.set_ylabel('Eje Y')\n",
    "\n",
    "plt.show()"
   ]
  },
  {
   "attachments": {},
   "cell_type": "markdown",
   "metadata": {},
   "source": [
    "### 3) ¿Cuántos municipios de Extremadura tienen más de 5000 habitantes?.\n",
    "\n",
    "## Respuesta: 14 Municipios"
   ]
  },
  {
   "cell_type": "code",
   "execution_count": 77,
   "metadata": {},
   "outputs": [
    {
     "data": {
      "text/html": [
       "<div>\n",
       "<style scoped>\n",
       "    .dataframe tbody tr th:only-of-type {\n",
       "        vertical-align: middle;\n",
       "    }\n",
       "\n",
       "    .dataframe tbody tr th {\n",
       "        vertical-align: top;\n",
       "    }\n",
       "\n",
       "    .dataframe thead th {\n",
       "        text-align: right;\n",
       "    }\n",
       "</style>\n",
       "<table border=\"1\" class=\"dataframe\">\n",
       "  <thead>\n",
       "    <tr style=\"text-align: right;\">\n",
       "      <th></th>\n",
       "      <th>Municipio</th>\n",
       "    </tr>\n",
       "    <tr>\n",
       "      <th>Provincia</th>\n",
       "      <th></th>\n",
       "    </tr>\n",
       "  </thead>\n",
       "  <tbody>\n",
       "    <tr>\n",
       "      <th>Badajoz</th>\n",
       "      <td>9</td>\n",
       "    </tr>\n",
       "    <tr>\n",
       "      <th>Cáceres</th>\n",
       "      <td>5</td>\n",
       "    </tr>\n",
       "  </tbody>\n",
       "</table>\n",
       "</div>"
      ],
      "text/plain": [
       "           Municipio\n",
       "Provincia           \n",
       "Badajoz            9\n",
       "Cáceres            5"
      ]
     },
     "execution_count": 77,
     "metadata": {},
     "output_type": "execute_result"
    }
   ],
   "source": [
    "df_resultado = df_nupoblacion[(df_nupoblacion['Provincia'] == 'Cáceres') | (df_nupoblacion['Provincia'] == 'Badajoz') & (df_nupoblacion['Poblacion'] > 5000)][['Provincia', 'Municipio']]\n",
    "\n",
    "df_resultado.groupby(by=\"Provincia\").count().head()"
   ]
  },
  {
   "attachments": {},
   "cell_type": "markdown",
   "metadata": {},
   "source": [
    "### 4) ¿Cuál es el municipio situado más al Norte? (Usar el valor de la coordenada \"Y\" que representa la latitud en grados). Proporcione también la provincia a la que pertenece y su población."
   ]
  },
  {
   "cell_type": "code",
   "execution_count": 86,
   "metadata": {},
   "outputs": [
    {
     "name": "stdout",
     "output_type": "stream",
     "text": [
      "El municipio situado mas al norte es:  Viveiro  que corresponde a la provincia de  Lugo  con una población de  16211.0\n"
     ]
    }
   ],
   "source": [
    "df_ubicaciones = df_nupoblacion.sort_values('Y', ascending=False)\n",
    "\n",
    "df_mun_norte = df_ubicaciones.iloc[0]\n",
    "\n",
    "print(\"El municipio situado mas al norte es: \", df_mun_norte['Municipio'], \" que corresponde a la provincia de \", df_mun_norte['Provincia'], \" con una población de \", df_mun_norte['Poblacion'])"
   ]
  },
  {
   "cell_type": "markdown",
   "metadata": {},
   "source": []
  }
 ],
 "metadata": {
  "kernelspec": {
   "display_name": "base",
   "language": "python",
   "name": "python3"
  },
  "language_info": {
   "codemirror_mode": {
    "name": "ipython",
    "version": 3
   },
   "file_extension": ".py",
   "mimetype": "text/x-python",
   "name": "python",
   "nbconvert_exporter": "python",
   "pygments_lexer": "ipython3",
   "version": "3.9.13"
  },
  "orig_nbformat": 4
 },
 "nbformat": 4,
 "nbformat_minor": 2
}
